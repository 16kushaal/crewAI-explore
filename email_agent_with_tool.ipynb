{
 "cells": [
  {
   "cell_type": "code",
   "execution_count": null,
   "id": "250dbb01",
   "metadata": {},
   "outputs": [
    {
     "data": {
      "text/plain": [
       "<function dotenv.main.load_dotenv(dotenv_path: Union[str, ForwardRef('os.PathLike[str]'), NoneType] = None, stream: Optional[IO[str]] = None, verbose: bool = False, override: bool = False, interpolate: bool = True, encoding: Optional[str] = 'utf-8') -> bool>"
      ]
     },
     "execution_count": 1,
     "metadata": {},
     "output_type": "execute_result"
    }
   ],
   "source": [
    "from dotenv import load_dotenv\n",
    "load_dotenv"
   ]
  },
  {
   "cell_type": "code",
   "execution_count": null,
   "id": "6932871d",
   "metadata": {},
   "outputs": [
    {
     "data": {
      "text/plain": [
       "'The current F1 champion is **Max Verstappen**.\\n\\nHe won the 2023 Formula 1 World Championship.'"
      ]
     },
     "execution_count": 2,
     "metadata": {},
     "output_type": "execute_result"
    }
   ],
   "source": [
    "from crewai import LLM\n",
    "\n",
    "llm = LLM(model=\"gemini/gemini-2.5-flash\", temperature=0.2)\n",
    "llm.call(\"Who is current f1 champion?\")"
   ]
  },
  {
   "cell_type": "code",
   "execution_count": null,
   "id": "ed85a89b",
   "metadata": {},
   "outputs": [],
   "source": [
    "from crewai import Agent, Task, Crew\n",
    "\n",
    "email_assistant = Agent(\n",
    "    role=\"You are an email assistant that helps users manage their emails efficiently.\",\n",
    "    goal = \"Improve emails and make them sound professional and clear.\",\n",
    "    backstory=\"A highly skilled email assistant with a deep understanding of effective mail writing.\",\n",
    "    verbose=True,\n",
    "    llm = llm\n",
    ")\n",
    "original_mail = \"\"\"\n",
    "hey! so just wanna give u a quick update — i've mostly wrapped up the main stuff but tbh still gotta tweak a few things, probs finish tdy. stuff got a bit messy at times lol, \n",
    "but got it all sorta sorted now. gonna give it one more chk b4 sending it ur way, \n",
    "wanna make sure it’s not totally wack. LMK if u wanna peek at it earlier or if u’ve got any last-min ideas,\n",
    " fyi i tried to keep things simple n clean, but u know me, sometimes i overcomplicate stuff lol. \n",
    " thx btw for being patient, appreciate it!\n",
    "\"\"\"\n"
   ]
  },
  {
   "cell_type": "code",
   "execution_count": null,
   "id": "04eea4d9",
   "metadata": {},
   "outputs": [],
   "source": [
    "\n",
    "email_task = Task(\n",
    "    description=f\"Improve the following email to make it sound more professional and clear.Expanded abbreviations : '''{original_mail}'''\",\n",
    "    agent=email_assistant,\n",
    "    expected_output=\"A professionally improved version of the provided email with proper formatting and tone.\"\n",
    ")\n",
    "\n",
    "crew = Crew(\n",
    "    agents=[email_assistant],\n",
    "    tasks=[email_task],\n",
    "    llm=llm,\n",
    "    verbose=True\n",
    ")\n",
    "\n",
    "result = crew.kickoff()\n",
    "print(result)"
   ]
  }
 ],
 "metadata": {
  "kernelspec": {
   "display_name": "crewai-explore (3.11.4)",
   "language": "python",
   "name": "python3"
  },
  "language_info": {
   "codemirror_mode": {
    "name": "ipython",
    "version": 3
   },
   "file_extension": ".py",
   "mimetype": "text/x-python",
   "name": "python",
   "nbconvert_exporter": "python",
   "pygments_lexer": "ipython3",
   "version": "3.11.4"
  }
 },
 "nbformat": 4,
 "nbformat_minor": 5
}
